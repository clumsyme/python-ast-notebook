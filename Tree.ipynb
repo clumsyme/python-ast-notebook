{
 "cells": [
  {
   "cell_type": "markdown",
   "metadata": {},
   "source": [
    "# Tree\n",
    "\n",
    "如何访问及修改 ast。\n",
    "\n",
    "## NodeVisitor"
   ]
  },
  {
   "cell_type": "code",
   "execution_count": 1,
   "metadata": {},
   "outputs": [],
   "source": [
    "from ast import *"
   ]
  },
  {
   "cell_type": "code",
   "execution_count": 2,
   "metadata": {},
   "outputs": [],
   "source": [
    "source = '''PI = 3.1415\n",
    "def area(radius):\n",
    "    return PI * radius ** 2\n",
    "    \n",
    "print(area(10))\n",
    "'''\n",
    "\n",
    "ast = parse(source)"
   ]
  },
  {
   "cell_type": "code",
   "execution_count": 3,
   "metadata": {},
   "outputs": [
    {
     "name": "stdout",
     "output_type": "stream",
     "text": [
      "Name: PI\n",
      "Def function:  area\n",
      "Name: PI\n",
      "Name: radius\n",
      "Name: print\n",
      "Name: area\n",
      "314.15000000000003\n"
     ]
    }
   ],
   "source": [
    "class MyVisitor(NodeVisitor):\n",
    "    # 定义 visit_Node 方法，此 Visitor 在访问到该类型 Node 时会调用此方法\n",
    "    def visit_Name(self, node):\n",
    "        print('Name:', node.id)\n",
    "        self.generic_visit(node)\n",
    "    def visit_FunctionDef(self, node):\n",
    "        print('Def function: ', node.name)\n",
    "        # 如果包含子节点，调用 generic_visit 来访问子节点\n",
    "        self.generic_visit(node)\n",
    "        \n",
    "MyVisitor().visit(ast)\n",
    "\n",
    "exec(compile(ast, '', 'exec'))"
   ]
  },
  {
   "cell_type": "markdown",
   "metadata": {},
   "source": [
    "## NodeTransformer\n",
    "\n",
    "NodeTransformer 是 NodeVisitor 的子类，用于转换节点。"
   ]
  },
  {
   "cell_type": "code",
   "execution_count": 4,
   "metadata": {},
   "outputs": [
    {
     "name": "stdout",
     "output_type": "stream",
     "text": [
      "You see me? --> 314.15000000000003\n"
     ]
    }
   ],
   "source": [
    "class PrintTransformer(NodeTransformer):\n",
    "    # 我们给 print 函数加一个默认的前缀参数：\n",
    "    def visit_Call(self, node):\n",
    "        default_prefix = [Str(s='You see me? -->')]\n",
    "\n",
    "        if type(node.func) == Name and node.func.id == 'print':\n",
    "            return Call(\n",
    "                func=node.func,\n",
    "                args=default_prefix + node.args,\n",
    "                keywords=node.keywords,\n",
    "            )\n",
    "        return node\n",
    "    \n",
    "PrintTransformer().visit(ast)\n",
    "# 转换后的 node 缺少 lineno 等必须属性\n",
    "fix_missing_locations(ast)\n",
    "\n",
    "exec(compile(ast, '', 'exec'))"
   ]
  },
  {
   "cell_type": "markdown",
   "metadata": {},
   "source": [
    "我们来实现 Rust 中的隐式返回（不用 return 关键字返回函数体的最后一个表达式）"
   ]
  },
  {
   "cell_type": "code",
   "execution_count": 5,
   "metadata": {},
   "outputs": [
    {
     "name": "stdout",
     "output_type": "stream",
     "text": [
      "You see me? --> x is 1\n",
      "You see me? --> y is 2\n",
      "You see me? --> z is 3\n"
     ]
    }
   ],
   "source": [
    "class ReturnTransformer(PrintTransformer):\n",
    "    def visit_FunctionDef(self, node):\n",
    "        self.generic_visit(node)\n",
    "\n",
    "        if type(node.body[-1]) == Expr:\n",
    "            return FunctionDef(\n",
    "                name=node.name,\n",
    "                args=node.args,\n",
    "                decorator_list=node.decorator_list,\n",
    "                returns=node.returns,\n",
    "                body=node.body[:-1] + [Return(value=node.body[-1].value)],\n",
    "            )\n",
    "        return node\n",
    "    \n",
    "def_source = '''def add(x, y):\n",
    "    print('x is', x)\n",
    "    print('y is', y)\n",
    "    x + y\n",
    "\n",
    "z = add(1, 2)\n",
    "print('z is', z)\n",
    "'''\n",
    "\n",
    "def_ast = parse(def_source)\n",
    "ReturnTransformer().visit(def_ast)\n",
    "fix_missing_locations(def_ast)\n",
    "exec(compile(def_ast, '', 'exec'))"
   ]
  },
  {
   "cell_type": "code",
   "execution_count": null,
   "metadata": {},
   "outputs": [],
   "source": []
  }
 ],
 "metadata": {
  "kernelspec": {
   "display_name": "Python 3",
   "language": "python",
   "name": "python3"
  },
  "language_info": {
   "codemirror_mode": {
    "name": "ipython",
    "version": 3
   },
   "file_extension": ".py",
   "mimetype": "text/x-python",
   "name": "python",
   "nbconvert_exporter": "python",
   "pygments_lexer": "ipython3",
   "version": "3.7.5"
  }
 },
 "nbformat": 4,
 "nbformat_minor": 2
}
