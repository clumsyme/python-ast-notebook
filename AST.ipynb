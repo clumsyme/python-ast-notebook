{
 "cells": [
  {
   "cell_type": "markdown",
   "metadata": {},
   "source": [
    "## AST"
   ]
  },
  {
   "cell_type": "code",
   "execution_count": 1,
   "metadata": {},
   "outputs": [],
   "source": [
    "import ast"
   ]
  },
  {
   "cell_type": "markdown",
   "metadata": {},
   "source": [
    "使用 `ast.parse` 生成一个虚拟语法树。"
   ]
  },
  {
   "cell_type": "code",
   "execution_count": 2,
   "metadata": {},
   "outputs": [],
   "source": [
    "tree = ast.parse('print(\"Hello, World\")')"
   ]
  },
  {
   "cell_type": "code",
   "execution_count": 3,
   "metadata": {},
   "outputs": [
    {
     "name": "stdout",
     "output_type": "stream",
     "text": [
      "<_ast.Module object at 0x103ec5e90>\n"
     ]
    }
   ],
   "source": [
    "print(tree)"
   ]
  },
  {
   "cell_type": "markdown",
   "metadata": {},
   "source": [
    "使用 `compile` 将 ast 转化为可执行代码。"
   ]
  },
  {
   "cell_type": "code",
   "execution_count": 4,
   "metadata": {},
   "outputs": [
    {
     "name": "stdout",
     "output_type": "stream",
     "text": [
      "Hello, World\n"
     ]
    }
   ],
   "source": [
    "exec(compile(tree, filename=\"<ast>\", mode=\"exec\"))"
   ]
  },
  {
   "cell_type": "markdown",
   "metadata": {},
   "source": [
    "# Modes"
   ]
  },
  {
   "cell_type": "markdown",
   "metadata": {},
   "source": [
    "Python 代码有 3 种编译模式，`ast.parse` 的 `mode` 参数会决定 AST 的 root，并且 `mode` 需要符合 `compile` 的 `mode`。\n",
    "\n",
    "- `exec`: 常规的 Python 代码以模式 `exec` 运行。AST 的 root 为 `ast.Module`，`body` 属性为 `node` 列表。\n",
    "- `eval`: 单个表达式以模式 `eval`编译，使用`eval()`调用将会返回其结果。AST 的 root 为 `ast.Expression`，`body` 属性为一个单独的 `node`，例如 `ast.Cell` 或者 `ast.BinOp`。\n",
    "- `single`: 单个语句或者表达式使用`single`模式编译。如果是表达式，结果会被`sys.displayhook()`调用，就像代码在交互式 shell 里运行一样。AST 的 root 为 `ast.Interactive`，其`body`属性为`node`列表。"
   ]
  },
  {
   "cell_type": "markdown",
   "metadata": {},
   "source": [
    "## 修复位置信息\n",
    "\n",
    "编译 AST 时，每一个 node 必须要有 `lineno` 和 `col_offset` 属性，编译常规代码会生成这些属性，而动态生成的代码不具有。有几个函数是跟这有关的：\n",
    "\n",
    "- [`ast.fix_missing_locations(node)`](https://docs.python.org/3/library/ast.html#ast.fix_missing_locations): 从 node 开始，递归地设置 `node` 缺失的 `lineno` 和 `col_offset` 属性的值为其 parent 的值。\n",
    "- [`ast.copy_location(new_node, old_node)`](https://docs.python.org/3/library/ast.html#ast.copy_location): 将 `old_node` 的 (lineno, col_offset, end_lineno, and end_col_offset) 属性复制到 `new_node`，并返回 `new_node`。\n",
    "- [`ast.increment_lineno(node, n=1)`](https://docs.python.org/3/library/ast.html#ast.increment_lineno): 将 `node` 的 `lineno` 和 `end_lineno` 加 `n`，可用来移动代码。"
   ]
  },
  {
   "cell_type": "markdown",
   "metadata": {},
   "source": [
    "## AST 向后转换\n",
    "\n",
    "Python 自身不能将编译的 `code object` 转换为一个 AST，也不能将一个 AST 转换为代码文本。一些第三方库提供这些功能：\n",
    "\n",
    "- [astor](https://github.com/berkerpeksag/astor)可以将 AST 转换为可读的代码文本。 \n",
    "- [uncompyle6](https://github.com/rocky/python-uncompyle6/) "
   ]
  }
 ],
 "metadata": {
  "kernelspec": {
   "display_name": "Python 3",
   "language": "python",
   "name": "python3"
  },
  "language_info": {
   "codemirror_mode": {
    "name": "ipython",
    "version": 3
   },
   "file_extension": ".py",
   "mimetype": "text/x-python",
   "name": "python",
   "nbconvert_exporter": "python",
   "pygments_lexer": "ipython3",
   "version": "3.7.5"
  }
 },
 "nbformat": 4,
 "nbformat_minor": 2
}
