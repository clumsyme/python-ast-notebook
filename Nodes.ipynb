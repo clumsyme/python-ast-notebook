{
 "cells": [
  {
   "cell_type": "code",
   "execution_count": 1,
   "metadata": {},
   "outputs": [],
   "source": [
    "from ast import *"
   ]
  },
  {
   "cell_type": "code",
   "execution_count": 2,
   "metadata": {},
   "outputs": [],
   "source": [
    "def dump(node, annotate_fields=True, include_attributes=False, indent='  '):\n",
    "    \"\"\"\n",
    "    Return a formatted dump of the tree in *node*.  This is mainly useful for\n",
    "    debugging purposes.  The returned string will show the names and the values\n",
    "    for fields.  This makes the code impossible to evaluate, so if evaluation is\n",
    "    wanted *annotate_fields* must be set to False.  Attributes such as line\n",
    "    numbers and column offsets are not dumped by default.  If this is wanted,\n",
    "    *include_attributes* can be set to True.\n",
    "    \"\"\"\n",
    "    def _format(node, level=0):\n",
    "        if isinstance(node, AST):\n",
    "            fields = [(a, _format(b, level)) for a, b in iter_fields(node)]\n",
    "            rv = '%s(%s' % (node.__class__.__name__, ', '.join(\n",
    "                ('%s=%s' % field for field in fields)\n",
    "                if annotate_fields else\n",
    "                (b for a, b in fields)\n",
    "            ))\n",
    "            if include_attributes and node._attributes:\n",
    "                rv += fields and ', ' or ' '\n",
    "                rv += ', '.join('%s=%s' % (a, _format(getattr(node, a)))\n",
    "                                for a in node._attributes)\n",
    "            return rv + ')'\n",
    "        elif isinstance(node, list):\n",
    "            lines = ['[']\n",
    "            lines.extend((indent * (level + 2) + _format(x, level + 2) + ','\n",
    "                          for x in node))\n",
    "            if len(lines) > 1:\n",
    "                lines.append(indent * (level + 1) + ']')\n",
    "            else:\n",
    "                lines[-1] += ']'\n",
    "            return '\\n'.join(lines)\n",
    "        return repr(node)\n",
    "    if not isinstance(node, AST):\n",
    "        raise TypeError('expected AST, got %r' % node.__class__.__name__)\n",
    "    return _format(node)\n",
    "\n",
    "def parseprint(source, filename='<unknown>', mode=\"exec\", **kwargs):\n",
    "    \"\"\"Parse the source and pretty-print the AST.\"\"\"\n",
    "    node = parse(source, filename, mode=mode)\n",
    "    print(dump(node, **kwargs))\n",
    "    \n",
    "\n",
    "# print a single expression\n",
    "def ppe(exp, filename='<unknown>', mode=\"exec\", **kwargs):\n",
    "    node = parse(exp, filename, mode=mode).body[0]\n",
    "    print(dump(node, **kwargs))\n"
   ]
  },
  {
   "cell_type": "markdown",
   "metadata": {},
   "source": [
    "## Literals"
   ]
  },
  {
   "cell_type": "code",
   "execution_count": 3,
   "metadata": {},
   "outputs": [
    {
     "name": "stdout",
     "output_type": "stream",
     "text": [
      "Expr(value=Num(n=9))\n"
     ]
    }
   ],
   "source": [
    "ppe('9')"
   ]
  },
  {
   "cell_type": "code",
   "execution_count": 4,
   "metadata": {},
   "outputs": [
    {
     "name": "stdout",
     "output_type": "stream",
     "text": [
      "Expr(value=Str(s='hello'))\n"
     ]
    }
   ],
   "source": [
    "ppe('\"hello\"')"
   ]
  },
  {
   "cell_type": "code",
   "execution_count": 5,
   "metadata": {},
   "outputs": [
    {
     "name": "stdout",
     "output_type": "stream",
     "text": [
      "Expr(value=JoinedStr(values=[\n",
      "    Str(s='hello '),\n",
      "    FormattedValue(value=Name(id='name', ctx=Load()), conversion=-1, format_spec=None),\n",
      "  ]))\n"
     ]
    }
   ],
   "source": [
    "name = 'Tom'\n",
    "ppe('f\"hello {name}\"')"
   ]
  },
  {
   "cell_type": "code",
   "execution_count": 6,
   "metadata": {},
   "outputs": [
    {
     "name": "stdout",
     "output_type": "stream",
     "text": [
      "Expr(value=Bytes(s=b'hi'))\n"
     ]
    }
   ],
   "source": [
    "ppe('b\"hi\"')"
   ]
  },
  {
   "cell_type": "code",
   "execution_count": 7,
   "metadata": {},
   "outputs": [
    {
     "name": "stdout",
     "output_type": "stream",
     "text": [
      "Expr(value=List(elts=[\n",
      "    Num(n=1),\n",
      "    Num(n=2),\n",
      "  ], ctx=Load()))\n"
     ]
    }
   ],
   "source": [
    "ppe('[1, 2]')"
   ]
  },
  {
   "cell_type": "code",
   "execution_count": 8,
   "metadata": {},
   "outputs": [
    {
     "name": "stdout",
     "output_type": "stream",
     "text": [
      "Expr(value=Tuple(elts=[\n",
      "    Num(n=1),\n",
      "    Num(n=2),\n",
      "  ], ctx=Load()))\n"
     ]
    }
   ],
   "source": [
    "ppe('(1, 2)')"
   ]
  },
  {
   "cell_type": "code",
   "execution_count": 9,
   "metadata": {},
   "outputs": [
    {
     "name": "stdout",
     "output_type": "stream",
     "text": [
      "Expr(value=Set(elts=[\n",
      "    Num(n=1),\n",
      "    Num(n=2),\n",
      "  ]))\n"
     ]
    }
   ],
   "source": [
    "ppe('{1, 2}')"
   ]
  },
  {
   "cell_type": "code",
   "execution_count": 10,
   "metadata": {},
   "outputs": [
    {
     "name": "stdout",
     "output_type": "stream",
     "text": [
      "Expr(value=Dict(keys=[\n",
      "    Str(s='name'),\n",
      "    Str(s='age'),\n",
      "  ], values=[\n",
      "    Str(s='Tom'),\n",
      "    Num(n=3),\n",
      "  ]))\n"
     ]
    }
   ],
   "source": [
    "ppe('{\"name\": \"Tom\", \"age\": 3}')"
   ]
  },
  {
   "cell_type": "code",
   "execution_count": 11,
   "metadata": {},
   "outputs": [
    {
     "name": "stdout",
     "output_type": "stream",
     "text": [
      "Expr(value=Ellipsis())\n"
     ]
    }
   ],
   "source": [
    "ppe('...')"
   ]
  },
  {
   "cell_type": "markdown",
   "metadata": {},
   "source": [
    "## Variables"
   ]
  },
  {
   "cell_type": "code",
   "execution_count": 16,
   "metadata": {},
   "outputs": [
    {
     "name": "stdout",
     "output_type": "stream",
     "text": [
      "Expr(value=Name(id='Tom', ctx=Load()))\n"
     ]
    }
   ],
   "source": [
    "# Load\n",
    "ppe('Tom')"
   ]
  },
  {
   "cell_type": "code",
   "execution_count": 17,
   "metadata": {},
   "outputs": [
    {
     "name": "stdout",
     "output_type": "stream",
     "text": [
      "Assign(targets=[\n",
      "    Name(id='a', ctx=Store()),\n",
      "  ], value=Num(n=1))\n"
     ]
    }
   ],
   "source": [
    "# Store\n",
    "ppe('a = 1')"
   ]
  },
  {
   "cell_type": "code",
   "execution_count": 18,
   "metadata": {},
   "outputs": [
    {
     "name": "stdout",
     "output_type": "stream",
     "text": [
      "Delete(targets=[\n",
      "    Name(id='a', ctx=Del()),\n",
      "  ])\n"
     ]
    }
   ],
   "source": [
    "# Del\n",
    "ppe('del a')"
   ]
  },
  {
   "cell_type": "code",
   "execution_count": 19,
   "metadata": {},
   "outputs": [
    {
     "name": "stdout",
     "output_type": "stream",
     "text": [
      "Assign(targets=[\n",
      "    Tuple(elts=[\n",
      "        Name(id='a', ctx=Store()),\n",
      "        Starred(value=Name(id='b', ctx=Store()), ctx=Store()),\n",
      "      ], ctx=Store()),\n",
      "  ], value=Name(id='c', ctx=Load()))\n"
     ]
    }
   ],
   "source": [
    "# Starred -> *b\n",
    "ppe('a, *b = c')"
   ]
  },
  {
   "cell_type": "markdown",
   "metadata": {},
   "source": [
    "## Expressions"
   ]
  },
  {
   "cell_type": "code",
   "execution_count": 25,
   "metadata": {},
   "outputs": [
    {
     "name": "stdout",
     "output_type": "stream",
     "text": [
      "Expr(value=UnaryOp(op=USub(), operand=Name(id='a', ctx=Load())))\n",
      "Expr(value=UnaryOp(op=UAdd(), operand=Name(id='a', ctx=Load())))\n",
      "Expr(value=UnaryOp(op=Not(), operand=Name(id='a', ctx=Load())))\n",
      "Expr(value=UnaryOp(op=Invert(), operand=Name(id='a', ctx=Load())))\n"
     ]
    }
   ],
   "source": [
    "# Expr/UnaryOp -> 一元运算\n",
    "ppe('-a')\n",
    "\n",
    "ppe('+a')\n",
    "\n",
    "ppe('not a')\n",
    "\n",
    "ppe('~a')"
   ]
  },
  {
   "cell_type": "code",
   "execution_count": 29,
   "metadata": {},
   "outputs": [
    {
     "name": "stdout",
     "output_type": "stream",
     "text": [
      "Expr(value=BinOp(left=Name(id='a', ctx=Load()), op=Add(), right=Name(id='b', ctx=Load())))\n",
      "Expr(value=BinOp(left=Name(id='a', ctx=Load()), op=Sub(), right=Name(id='b', ctx=Load())))\n",
      "Expr(value=BinOp(left=Name(id='a', ctx=Load()), op=Mult(), right=Name(id='b', ctx=Load())))\n",
      "Expr(value=BinOp(left=Name(id='a', ctx=Load()), op=Div(), right=Name(id='b', ctx=Load())))\n",
      "Expr(value=BinOp(left=Name(id='a', ctx=Load()), op=FloorDiv(), right=Name(id='b', ctx=Load())))\n",
      "Expr(value=BinOp(left=Name(id='a', ctx=Load()), op=Mod(), right=Name(id='b', ctx=Load())))\n",
      "Expr(value=BinOp(left=Name(id='a', ctx=Load()), op=Pow(), right=Name(id='b', ctx=Load())))\n",
      "Expr(value=BinOp(left=Name(id='a', ctx=Load()), op=LShift(), right=Name(id='b', ctx=Load())))\n",
      "Expr(value=BinOp(left=Name(id='a', ctx=Load()), op=RShift(), right=Name(id='b', ctx=Load())))\n",
      "Expr(value=BinOp(left=Name(id='a', ctx=Load()), op=BitOr(), right=Name(id='b', ctx=Load())))\n",
      "Expr(value=BinOp(left=Name(id='a', ctx=Load()), op=BitAnd(), right=Name(id='b', ctx=Load())))\n",
      "Expr(value=BinOp(left=Name(id='a', ctx=Load()), op=BitXor(), right=Name(id='b', ctx=Load())))\n",
      "Expr(value=BinOp(left=Name(id='a', ctx=Load()), op=MatMult(), right=Name(id='b', ctx=Load())))\n"
     ]
    }
   ],
   "source": [
    "# BinOp -> 二元运算\n",
    "ppe('a + b')\n",
    "ppe('a - b')\n",
    "ppe('a * b')\n",
    "ppe('a / b')\n",
    "ppe('a // b')\n",
    "ppe('a % b')\n",
    "ppe('a ** b')\n",
    "ppe('a << b')\n",
    "ppe('a >> b')\n",
    "ppe('a | b')\n",
    "ppe('a & b')\n",
    "ppe('a ^ b')\n",
    "ppe('a @ b')"
   ]
  },
  {
   "cell_type": "code",
   "execution_count": 31,
   "metadata": {},
   "outputs": [
    {
     "name": "stdout",
     "output_type": "stream",
     "text": [
      "Expr(value=BoolOp(op=And(), values=[\n",
      "    Name(id='a', ctx=Load()),\n",
      "    Name(id='b', ctx=Load()),\n",
      "  ]))\n",
      "Expr(value=BoolOp(op=Or(), values=[\n",
      "    Name(id='a', ctx=Load()),\n",
      "    Name(id='b', ctx=Load()),\n",
      "  ]))\n",
      "Expr(value=BoolOp(op=Or(), values=[\n",
      "    BoolOp(op=And(), values=[\n",
      "        Name(id='a', ctx=Load()),\n",
      "        Name(id='b', ctx=Load()),\n",
      "      ]),\n",
      "    Name(id='c', ctx=Load()),\n",
      "  ]))\n"
     ]
    }
   ],
   "source": [
    "# BoolOp -> 布尔运算\n",
    "ppe('a and b')\n",
    "ppe('a or b')\n",
    "ppe('a and b or c')"
   ]
  },
  {
   "cell_type": "code",
   "execution_count": 32,
   "metadata": {},
   "outputs": [
    {
     "name": "stdout",
     "output_type": "stream",
     "text": [
      "Expr(value=Compare(left=Name(id='a', ctx=Load()), ops=[\n",
      "    Eq(),\n",
      "  ], comparators=[\n",
      "    Name(id='b', ctx=Load()),\n",
      "  ]))\n",
      "Expr(value=Compare(left=Name(id='a', ctx=Load()), ops=[\n",
      "    NotEq(),\n",
      "  ], comparators=[\n",
      "    Name(id='b', ctx=Load()),\n",
      "  ]))\n",
      "Expr(value=Compare(left=Name(id='a', ctx=Load()), ops=[\n",
      "    Lt(),\n",
      "  ], comparators=[\n",
      "    Name(id='b', ctx=Load()),\n",
      "  ]))\n",
      "Expr(value=Compare(left=Name(id='a', ctx=Load()), ops=[\n",
      "    LtE(),\n",
      "  ], comparators=[\n",
      "    Name(id='b', ctx=Load()),\n",
      "  ]))\n",
      "Expr(value=Compare(left=Name(id='a', ctx=Load()), ops=[\n",
      "    Gt(),\n",
      "  ], comparators=[\n",
      "    Name(id='b', ctx=Load()),\n",
      "  ]))\n",
      "Expr(value=Compare(left=Name(id='a', ctx=Load()), ops=[\n",
      "    GtE(),\n",
      "  ], comparators=[\n",
      "    Name(id='b', ctx=Load()),\n",
      "  ]))\n",
      "Expr(value=Compare(left=Name(id='a', ctx=Load()), ops=[\n",
      "    Is(),\n",
      "  ], comparators=[\n",
      "    Name(id='b', ctx=Load()),\n",
      "  ]))\n",
      "Expr(value=Compare(left=Name(id='a', ctx=Load()), ops=[\n",
      "    IsNot(),\n",
      "  ], comparators=[\n",
      "    Name(id='b', ctx=Load()),\n",
      "  ]))\n",
      "Expr(value=Compare(left=Name(id='a', ctx=Load()), ops=[\n",
      "    In(),\n",
      "  ], comparators=[\n",
      "    Name(id='b', ctx=Load()),\n",
      "  ]))\n",
      "Expr(value=Compare(left=Name(id='a', ctx=Load()), ops=[\n",
      "    NotIn(),\n",
      "  ], comparators=[\n",
      "    Name(id='b', ctx=Load()),\n",
      "  ]))\n"
     ]
    }
   ],
   "source": [
    "# Compare -> 比较\n",
    "ppe('a == b')\n",
    "ppe('a != b')\n",
    "ppe('a < b')\n",
    "ppe('a <= b')\n",
    "ppe('a > b')\n",
    "ppe('a >= b')\n",
    "ppe('a is b')\n",
    "ppe('a is not b')\n",
    "ppe('a in b')\n",
    "ppe('a not in b')"
   ]
  },
  {
   "cell_type": "code",
   "execution_count": 33,
   "metadata": {},
   "outputs": [
    {
     "name": "stdout",
     "output_type": "stream",
     "text": [
      "Expr(value=Call(func=Name(id='add', ctx=Load()), args=[\n",
      "    Name(id='a', ctx=Load()),\n",
      "    Starred(value=Name(id='c', ctx=Load()), ctx=Load()),\n",
      "  ], keywords=[\n",
      "    keyword(arg='b', value=Num(n=2)),\n",
      "    keyword(arg=None, value=Name(id='d', ctx=Load())),\n",
      "  ]))\n"
     ]
    }
   ],
   "source": [
    "# Call -> 函数调用\n",
    "# keyword\n",
    "ppe('add(a, b=2, *c, **d)')"
   ]
  },
  {
   "cell_type": "code",
   "execution_count": 35,
   "metadata": {},
   "outputs": [
    {
     "name": "stdout",
     "output_type": "stream",
     "text": [
      "Expr(value=IfExp(test=Name(id='b', ctx=Load()), body=Name(id='a', ctx=Load()), orelse=Name(id='c', ctx=Load())))\n"
     ]
    }
   ],
   "source": [
    "# IfExp\n",
    "ppe('a if b else c')"
   ]
  },
  {
   "cell_type": "code",
   "execution_count": 38,
   "metadata": {},
   "outputs": [
    {
     "name": "stdout",
     "output_type": "stream",
     "text": [
      "Expr(value=Attribute(value=Name(id='person', ctx=Load()), attr='name', ctx=Load()))\n"
     ]
    }
   ],
   "source": [
    "# Attribute\n",
    "ppe('person.name')"
   ]
  },
  {
   "cell_type": "markdown",
   "metadata": {},
   "source": [
    "## Subscripting"
   ]
  },
  {
   "cell_type": "code",
   "execution_count": 42,
   "metadata": {},
   "outputs": [
    {
     "name": "stdout",
     "output_type": "stream",
     "text": [
      "Expr(value=Subscript(value=Name(id='todos', ctx=Load()), slice=Index(value=Num(n=1)), ctx=Load()))\n",
      "Expr(value=Subscript(value=Name(id='todos', ctx=Load()), slice=Slice(lower=Num(n=1), upper=None, step=None), ctx=Load()))\n",
      "Expr(value=Subscript(value=Name(id='todos', ctx=Load()), slice=ExtSlice(dims=[\n",
      "    Slice(lower=Num(n=1), upper=Num(n=2), step=None),\n",
      "    Index(value=Num(n=2)),\n",
      "  ]), ctx=Load()))\n"
     ]
    }
   ],
   "source": [
    "# Subscript(value, slice, ctx)\n",
    "# Index, Slice, ExtSlice\n",
    "ppe('todos[1]')\n",
    "ppe('todos[1:]')\n",
    "ppe('todos[1:2, 2]')"
   ]
  },
  {
   "cell_type": "markdown",
   "metadata": {},
   "source": [
    "## Comprehensions"
   ]
  },
  {
   "cell_type": "code",
   "execution_count": 44,
   "metadata": {},
   "outputs": [
    {
     "name": "stdout",
     "output_type": "stream",
     "text": [
      "Expr(value=ListComp(elt=Name(id='i', ctx=Load()), generators=[\n",
      "    comprehension(target=Name(id='i', ctx=Store()), iter=Call(func=Name(id='range', ctx=Load()), args=[\n",
      "        Num(n=3),\n",
      "      ], keywords=[]), ifs=[], is_async=0),\n",
      "  ]))\n"
     ]
    }
   ],
   "source": [
    "# 列表、字典、集合、生成器生成式\n",
    "# comprehension\n",
    "ppe('[i for i in range(3)]')"
   ]
  },
  {
   "cell_type": "code",
   "execution_count": 47,
   "metadata": {},
   "outputs": [
    {
     "name": "stdout",
     "output_type": "stream",
     "text": [
      "Expr(value=DictComp(key=Name(id='key', ctx=Load()), value=Name(id='value', ctx=Load()), generators=[\n",
      "    comprehension(target=Name(id='key', ctx=Store()), iter=Name(id='keys', ctx=Load()), ifs=[], is_async=0),\n",
      "    comprehension(target=Name(id='value', ctx=Store()), iter=Name(id='values', ctx=Load()), ifs=[], is_async=0),\n",
      "  ]))\n"
     ]
    }
   ],
   "source": [
    "ppe('{key: value for key in keys for value in values}')"
   ]
  },
  {
   "cell_type": "code",
   "execution_count": 49,
   "metadata": {},
   "outputs": [
    {
     "name": "stdout",
     "output_type": "stream",
     "text": [
      "Expr(value=SetComp(elt=Name(id='k', ctx=Load()), generators=[\n",
      "    comprehension(target=Name(id='k', ctx=Store()), iter=Name(id='li', ctx=Load()), ifs=[\n",
      "        Compare(left=Name(id='k', ctx=Load()), ops=[\n",
      "            Gt(),\n",
      "          ], comparators=[\n",
      "            Num(n=0),\n",
      "          ]),\n",
      "      ], is_async=0),\n",
      "  ]))\n"
     ]
    }
   ],
   "source": [
    "ppe('{k for k in li if k > 0}')"
   ]
  },
  {
   "cell_type": "code",
   "execution_count": 50,
   "metadata": {},
   "outputs": [
    {
     "name": "stdout",
     "output_type": "stream",
     "text": [
      "Expr(value=GeneratorExp(elt=Name(id='i', ctx=Load()), generators=[\n",
      "    comprehension(target=Name(id='i', ctx=Store()), iter=Call(func=Name(id='range', ctx=Load()), args=[\n",
      "        Num(n=9),\n",
      "      ], keywords=[]), ifs=[], is_async=0),\n",
      "  ]))\n"
     ]
    }
   ],
   "source": [
    "ppe('(i for i in range(9))')"
   ]
  },
  {
   "cell_type": "markdown",
   "metadata": {},
   "source": [
    "## Statements"
   ]
  },
  {
   "cell_type": "code",
   "execution_count": 57,
   "metadata": {},
   "outputs": [
    {
     "name": "stdout",
     "output_type": "stream",
     "text": [
      "Assign(targets=[\n",
      "    Name(id='a', ctx=Store()),\n",
      "  ], value=Num(n=1))\n",
      "Assign(targets=[\n",
      "    Name(id='a', ctx=Store()),\n",
      "    Name(id='b', ctx=Store()),\n",
      "  ], value=Num(n=1))\n",
      "Assign(targets=[\n",
      "    Tuple(elts=[\n",
      "        Name(id='a', ctx=Store()),\n",
      "        Name(id='b', ctx=Store()),\n",
      "      ], ctx=Store()),\n",
      "  ], value=Name(id='c', ctx=Load()))\n"
     ]
    }
   ],
   "source": [
    "# Assign\n",
    "ppe('a = 1')\n",
    "ppe('a = b = 1')\n",
    "ppe('a, b = c')"
   ]
  },
  {
   "cell_type": "code",
   "execution_count": 56,
   "metadata": {},
   "outputs": [
    {
     "name": "stdout",
     "output_type": "stream",
     "text": [
      "AnnAssign(target=Name(id='a', ctx=Store()), annotation=Name(id='int', ctx=Load()), value=Num(n=1), simple=1)\n"
     ]
    }
   ],
   "source": [
    "# AnnAssign\n",
    "ppe('a: int = 1')"
   ]
  },
  {
   "cell_type": "code",
   "execution_count": 58,
   "metadata": {},
   "outputs": [
    {
     "name": "stdout",
     "output_type": "stream",
     "text": [
      "AugAssign(target=Name(id='a', ctx=Store()), op=Add(), value=Num(n=1))\n",
      "AugAssign(target=Name(id='a', ctx=Store()), op=Sub(), value=Num(n=1))\n"
     ]
    }
   ],
   "source": [
    "# AugAssign\n",
    "ppe('a += 1')\n",
    "ppe('a -= 1')"
   ]
  },
  {
   "cell_type": "code",
   "execution_count": 60,
   "metadata": {},
   "outputs": [
    {
     "name": "stdout",
     "output_type": "stream",
     "text": [
      "Raise(exc=Name(id='a', ctx=Load()), cause=None)\n"
     ]
    }
   ],
   "source": [
    "# Raise\n",
    "ppe('raise a')"
   ]
  },
  {
   "cell_type": "code",
   "execution_count": 61,
   "metadata": {},
   "outputs": [
    {
     "name": "stdout",
     "output_type": "stream",
     "text": [
      "Assert(test=Compare(left=Num(n=1), ops=[\n",
      "    Eq(),\n",
      "  ], comparators=[\n",
      "    Num(n=2),\n",
      "  ]), msg=None)\n"
     ]
    }
   ],
   "source": [
    "# Assert\n",
    "ppe('assert 1 == 2')"
   ]
  },
  {
   "cell_type": "code",
   "execution_count": 62,
   "metadata": {},
   "outputs": [
    {
     "name": "stdout",
     "output_type": "stream",
     "text": [
      "Delete(targets=[\n",
      "    Name(id='a', ctx=Del()),\n",
      "  ])\n"
     ]
    }
   ],
   "source": [
    "# Delete\n",
    "ppe('del a')"
   ]
  },
  {
   "cell_type": "code",
   "execution_count": 63,
   "metadata": {},
   "outputs": [
    {
     "name": "stdout",
     "output_type": "stream",
     "text": [
      "Pass()\n"
     ]
    }
   ],
   "source": [
    "# Pass\n",
    "ppe('pass')"
   ]
  },
  {
   "cell_type": "markdown",
   "metadata": {},
   "source": [
    "## Imports"
   ]
  },
  {
   "cell_type": "code",
   "execution_count": 65,
   "metadata": {},
   "outputs": [
    {
     "name": "stdout",
     "output_type": "stream",
     "text": [
      "Import(names=[\n",
      "    alias(name='numpy', asname=None),\n",
      "  ])\n"
     ]
    }
   ],
   "source": [
    "ppe('import numpy')"
   ]
  },
  {
   "cell_type": "code",
   "execution_count": 66,
   "metadata": {},
   "outputs": [
    {
     "name": "stdout",
     "output_type": "stream",
     "text": [
      "ImportFrom(module='numpy', names=[\n",
      "    alias(name='matrix', asname=None),\n",
      "  ], level=0)\n"
     ]
    }
   ],
   "source": [
    "ppe('from numpy import matrix')"
   ]
  },
  {
   "cell_type": "code",
   "execution_count": 67,
   "metadata": {},
   "outputs": [
    {
     "name": "stdout",
     "output_type": "stream",
     "text": [
      "Import(names=[\n",
      "    alias(name='numpy', asname='np'),\n",
      "  ])\n"
     ]
    }
   ],
   "source": [
    "# alias\n",
    "ppe('import numpy as np')"
   ]
  },
  {
   "cell_type": "markdown",
   "metadata": {},
   "source": [
    "## Control flow"
   ]
  },
  {
   "cell_type": "code",
   "execution_count": 73,
   "metadata": {},
   "outputs": [
    {
     "name": "stdout",
     "output_type": "stream",
     "text": [
      "If(test=Compare(left=Name(id='a', ctx=Load()), ops=[\n",
      "    Gt(),\n",
      "  ], comparators=[\n",
      "    Num(n=0),\n",
      "  ]), body=[\n",
      "    Pass(),\n",
      "  ], orelse=[\n",
      "    If(test=Compare(left=Name(id='a', ctx=Load()), ops=[\n",
      "        Eq(),\n",
      "      ], comparators=[\n",
      "        Num(n=0),\n",
      "      ]), body=[\n",
      "        Pass(),\n",
      "      ], orelse=[\n",
      "        Pass(),\n",
      "      ]),\n",
      "  ])\n"
     ]
    }
   ],
   "source": [
    "# If -> (test, body, orelse)\n",
    "ppe('''if a > 0: \n",
    "    pass\n",
    "elif a == 0:\n",
    "    pass\n",
    "else:\n",
    "    pass\n",
    "''')"
   ]
  },
  {
   "cell_type": "code",
   "execution_count": 74,
   "metadata": {},
   "outputs": [
    {
     "name": "stdout",
     "output_type": "stream",
     "text": [
      "For(target=Name(id='i', ctx=Store()), iter=Call(func=Name(id='range', ctx=Load()), args=[\n",
      "    Num(n=10),\n",
      "  ], keywords=[]), body=[\n",
      "    Pass(),\n",
      "  ], orelse=[\n",
      "    Pass(),\n",
      "  ])\n"
     ]
    }
   ],
   "source": [
    "# For -> (target, iter, body, orelse, type_comment)\n",
    "ppe('''for i in range(10):\n",
    "    pass\n",
    "else:\n",
    "    pass\n",
    "''')"
   ]
  },
  {
   "cell_type": "code",
   "execution_count": 76,
   "metadata": {},
   "outputs": [
    {
     "name": "stdout",
     "output_type": "stream",
     "text": [
      "While(test=NameConstant(value=True), body=[\n",
      "    Pass(),\n",
      "  ], orelse=[\n",
      "    Pass(),\n",
      "  ])\n"
     ]
    }
   ],
   "source": [
    "# While -> (test, body, orelse)\n",
    "ppe('''while True:\n",
    "    pass\n",
    "else:\n",
    "    pass\n",
    "''')"
   ]
  },
  {
   "cell_type": "code",
   "execution_count": 77,
   "metadata": {},
   "outputs": [
    {
     "name": "stdout",
     "output_type": "stream",
     "text": [
      "Break()\n",
      "Continue()\n"
     ]
    }
   ],
   "source": [
    "# Break, Continue\n",
    "ppe('break')\n",
    "ppe('continue')"
   ]
  },
  {
   "cell_type": "code",
   "execution_count": 81,
   "metadata": {},
   "outputs": [
    {
     "name": "stdout",
     "output_type": "stream",
     "text": [
      "Try(body=[\n",
      "    Pass(),\n",
      "  ], handlers=[\n",
      "    ExceptHandler(type=Name(id='E', ctx=Load()), name='e', body=[\n",
      "        Pass(),\n",
      "      ]),\n",
      "  ], orelse=[], finalbody=[\n",
      "    Pass(),\n",
      "  ])\n"
     ]
    }
   ],
   "source": [
    "# Try > ExceptHandler\n",
    "ppe('''try:\n",
    "    pass\n",
    "except E as e:\n",
    "    pass\n",
    "finally:\n",
    "    pass\n",
    "\n",
    "''')"
   ]
  },
  {
   "cell_type": "code",
   "execution_count": 83,
   "metadata": {},
   "outputs": [
    {
     "name": "stdout",
     "output_type": "stream",
     "text": [
      "With(items=[\n",
      "    withitem(context_expr=Name(id='x', ctx=Load()), optional_vars=None),\n",
      "    withitem(context_expr=Name(id='y', ctx=Load()), optional_vars=None),\n",
      "  ], body=[\n",
      "    Pass(),\n",
      "  ])\n"
     ]
    }
   ],
   "source": [
    "# With > withitem\n",
    "ppe('with x, y: pass')"
   ]
  },
  {
   "cell_type": "markdown",
   "metadata": {},
   "source": [
    "## Function and class definitions"
   ]
  },
  {
   "cell_type": "code",
   "execution_count": 94,
   "metadata": {},
   "outputs": [
    {
     "name": "stdout",
     "output_type": "stream",
     "text": [
      "FunctionDef(name='add', args=arguments(args=[\n",
      "    arg(arg='x', annotation=None),\n",
      "    arg(arg='y', annotation=None),\n",
      "  ], vararg=None, kwonlyargs=[], kw_defaults=[], kwarg=None, defaults=[]), body=[\n",
      "    Return(value=BinOp(left=Name(id='x', ctx=Load()), op=Add(), right=Name(id='y', ctx=Load()))),\n",
      "  ], decorator_list=[], returns=None)\n",
      "FunctionDef(name='add', args=arguments(args=[\n",
      "    arg(arg='x', annotation=Name(id='int', ctx=Load())),\n",
      "    arg(arg='y', annotation=Name(id='int', ctx=Load())),\n",
      "  ], vararg=None, kwonlyargs=[], kw_defaults=[], kwarg=None, defaults=[]), body=[\n",
      "    Pass(),\n",
      "  ], decorator_list=[\n",
      "    Name(id='log', ctx=Load()),\n",
      "  ], returns=Name(id='int', ctx=Load()))\n"
     ]
    }
   ],
   "source": [
    "# FunctionDef -> (name, args, body, decorator_list, returns, type_comment)\n",
    "# arguments\n",
    "ppe('''def add(x, y):\n",
    "    return x + y\n",
    "''')\n",
    "\n",
    "ppe('''@log\n",
    "def add(x: int, y: int) -> int:\n",
    "    pass\n",
    "''')"
   ]
  },
  {
   "cell_type": "code",
   "execution_count": 86,
   "metadata": {},
   "outputs": [
    {
     "name": "stdout",
     "output_type": "stream",
     "text": [
      "Expr(value=Lambda(args=arguments(args=[\n",
      "    arg(arg='x', annotation=None),\n",
      "  ], vararg=None, kwonlyargs=[], kw_defaults=[], kwarg=None, defaults=[]), body=BinOp(left=Name(id='x', ctx=Load()), op=Add(), right=Num(n=1))))\n"
     ]
    }
   ],
   "source": [
    "# Lambda\n",
    "ppe('lambda x: x+1')"
   ]
  },
  {
   "cell_type": "code",
   "execution_count": 87,
   "metadata": {},
   "outputs": [
    {
     "name": "stdout",
     "output_type": "stream",
     "text": [
      "Return(value=Num(n=9))\n"
     ]
    }
   ],
   "source": [
    "# Return\n",
    "ppe('return 9')"
   ]
  },
  {
   "cell_type": "code",
   "execution_count": 89,
   "metadata": {},
   "outputs": [
    {
     "name": "stdout",
     "output_type": "stream",
     "text": [
      "Expr(value=Yield(value=Num(n=9)))\n"
     ]
    }
   ],
   "source": [
    "# Yield\n",
    "ppe('yield 9')"
   ]
  },
  {
   "cell_type": "code",
   "execution_count": 91,
   "metadata": {},
   "outputs": [
    {
     "name": "stdout",
     "output_type": "stream",
     "text": [
      "Global(names=[\n",
      "    'a',\n",
      "  ])\n"
     ]
    }
   ],
   "source": [
    "# Global\n",
    "ppe('global a')"
   ]
  },
  {
   "cell_type": "code",
   "execution_count": 92,
   "metadata": {},
   "outputs": [
    {
     "name": "stdout",
     "output_type": "stream",
     "text": [
      "Nonlocal(names=[\n",
      "    'a',\n",
      "  ])\n"
     ]
    }
   ],
   "source": [
    "# Nonlocal\n",
    "ppe('nonlocal a')"
   ]
  },
  {
   "cell_type": "code",
   "execution_count": 93,
   "metadata": {},
   "outputs": [
    {
     "name": "stdout",
     "output_type": "stream",
     "text": [
      "ClassDef(name='Dog', bases=[\n",
      "    Name(id='Animal', ctx=Load()),\n",
      "  ], keywords=[\n",
      "    keyword(arg='metaclass', value=Name(id='meta', ctx=Load())),\n",
      "  ], body=[\n",
      "    Pass(),\n",
      "  ], decorator_list=[])\n"
     ]
    }
   ],
   "source": [
    "# ClassDef -> (name, bases, keywords, starargs, kwargs, body, decorator_list)\n",
    "ppe('''class Dog(Animal, metaclass=meta):\n",
    "    pass''')"
   ]
  },
  {
   "cell_type": "markdown",
   "metadata": {},
   "source": [
    "## Async and await"
   ]
  },
  {
   "cell_type": "code",
   "execution_count": 95,
   "metadata": {},
   "outputs": [
    {
     "name": "stdout",
     "output_type": "stream",
     "text": [
      "AsyncFunctionDef(name='wait', args=arguments(args=[], vararg=None, kwonlyargs=[], kw_defaults=[], kwarg=None, defaults=[]), body=[\n",
      "    Expr(value=Await(value=Call(func=Name(id='me', ctx=Load()), args=[], keywords=[]))),\n",
      "  ], decorator_list=[], returns=None)\n"
     ]
    }
   ],
   "source": [
    "# AsyncFunctionDef -> (name, args, body, decorator_list, returns, type_comment)\n",
    "ppe('''async def wait():\n",
    "    await me()''')"
   ]
  },
  {
   "cell_type": "code",
   "execution_count": 96,
   "metadata": {},
   "outputs": [
    {
     "name": "stdout",
     "output_type": "stream",
     "text": [
      "Expr(value=Await(value=Num(n=9)))\n"
     ]
    }
   ],
   "source": [
    "# Await\n",
    "ppe('await 9')"
   ]
  },
  {
   "cell_type": "code",
   "execution_count": 97,
   "metadata": {},
   "outputs": [
    {
     "name": "stdout",
     "output_type": "stream",
     "text": [
      "AsyncFor(target=Name(id='i', ctx=Store()), iter=Call(func=Name(id='range', ctx=Load()), args=[\n",
      "    Num(n=10),\n",
      "  ], keywords=[]), body=[\n",
      "    Pass(),\n",
      "  ], orelse=[])\n"
     ]
    }
   ],
   "source": [
    "# Async For\n",
    "ppe('''async for i in range(10):\n",
    "    pass''')"
   ]
  },
  {
   "cell_type": "code",
   "execution_count": 98,
   "metadata": {},
   "outputs": [
    {
     "name": "stdout",
     "output_type": "stream",
     "text": [
      "AsyncWith(items=[\n",
      "    withitem(context_expr=Call(func=Name(id='me', ctx=Load()), args=[], keywords=[]), optional_vars=None),\n",
      "  ], body=[\n",
      "    Pass(),\n",
      "  ])\n"
     ]
    }
   ],
   "source": [
    "# Async With\n",
    "ppe('''async with me(): pass''')"
   ]
  },
  {
   "cell_type": "markdown",
   "metadata": {},
   "source": [
    "## Top level nodes"
   ]
  },
  {
   "cell_type": "code",
   "execution_count": 99,
   "metadata": {},
   "outputs": [
    {
     "name": "stdout",
     "output_type": "stream",
     "text": [
      "Module(body=[])\n"
     ]
    }
   ],
   "source": [
    "# Module\n",
    "parseprint('')"
   ]
  },
  {
   "cell_type": "code",
   "execution_count": null,
   "metadata": {},
   "outputs": [],
   "source": []
  }
 ],
 "metadata": {
  "kernelspec": {
   "display_name": "Python 3",
   "language": "python",
   "name": "python3"
  },
  "language_info": {
   "codemirror_mode": {
    "name": "ipython",
    "version": 3
   },
   "file_extension": ".py",
   "mimetype": "text/x-python",
   "name": "python",
   "nbconvert_exporter": "python",
   "pygments_lexer": "ipython3",
   "version": "3.7.5"
  }
 },
 "nbformat": 4,
 "nbformat_minor": 2
}
